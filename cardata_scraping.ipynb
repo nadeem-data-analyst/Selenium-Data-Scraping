{
 "cells": [
  {
   "cell_type": "code",
   "execution_count": null,
   "id": "4769df67-819b-4d57-8036-9dd2ec4212ee",
   "metadata": {},
   "outputs": [],
   "source": [
    "!pip install selenium"
   ]
  },
  {
   "cell_type": "code",
   "execution_count": 1,
   "id": "fd24ddc5-4da5-49fa-a008-1b2b50120419",
   "metadata": {},
   "outputs": [],
   "source": [
    "from selenium import webdriver\n",
    "from selenium.webdriver.common.by import By\n",
    "from selenium.webdriver.common.keys import Keys\n",
    "from selenium.webdriver.common.action_chains import ActionChains\n",
    "from selenium.webdriver.support.ui import Select\n",
    "from selenium.webdriver.support.ui import WebDriverWait\n",
    "from selenium.webdriver.support import expected_conditions as EC\n",
    "import time\n",
    "import pandas as pd"
   ]
  },
  {
   "cell_type": "code",
   "execution_count": 2,
   "id": "af5d0c43-1ae3-4f1c-be30-6a072796ef0b",
   "metadata": {},
   "outputs": [],
   "source": [
    "driver = webdriver.Chrome()\n",
    "driver.maximize_window()"
   ]
  },
  {
   "cell_type": "code",
   "execution_count": 6,
   "id": "cfa2c181-e0f1-411d-a596-a0ca921ea578",
   "metadata": {},
   "outputs": [
    {
     "ename": "NoSuchWindowException",
     "evalue": "Message: no such window: target window already closed\nfrom unknown error: web view not found\n  (Session info: chrome=125.0.6422.142)\nStacktrace:\n\tGetHandleVerifier [0x00007FF68FDA1F52+60322]\n\t(No symbol) [0x00007FF68FD1CEC9]\n\t(No symbol) [0x00007FF68FBD7EBA]\n\t(No symbol) [0x00007FF68FBAD5A5]\n\t(No symbol) [0x00007FF68FC536B7]\n\t(No symbol) [0x00007FF68FC6B331]\n\t(No symbol) [0x00007FF68FC4BFC3]\n\t(No symbol) [0x00007FF68FC19617]\n\t(No symbol) [0x00007FF68FC1A211]\n\tGetHandleVerifier [0x00007FF6900B94AD+3301629]\n\tGetHandleVerifier [0x00007FF6901036D3+3605283]\n\tGetHandleVerifier [0x00007FF6900F9450+3563680]\n\tGetHandleVerifier [0x00007FF68FE54326+790390]\n\t(No symbol) [0x00007FF68FD2750F]\n\t(No symbol) [0x00007FF68FD23404]\n\t(No symbol) [0x00007FF68FD23592]\n\t(No symbol) [0x00007FF68FD12F9F]\n\tBaseThreadInitThunk [0x00007FF993247344+20]\n\tRtlUserThreadStart [0x00007FF99337CC91+33]\n",
     "output_type": "error",
     "traceback": [
      "\u001b[1;31m---------------------------------------------------------------------------\u001b[0m",
      "\u001b[1;31mNoSuchWindowException\u001b[0m                     Traceback (most recent call last)",
      "Cell \u001b[1;32mIn[6], line 1\u001b[0m\n\u001b[1;32m----> 1\u001b[0m driver\u001b[38;5;241m.\u001b[39mget(\u001b[38;5;124m\"\u001b[39m\u001b[38;5;124mhttps://catalog.ncsu.edu/undergraduate/\u001b[39m\u001b[38;5;124m\"\u001b[39m)\n\u001b[0;32m      2\u001b[0m time\u001b[38;5;241m.\u001b[39msleep(\u001b[38;5;241m5\u001b[39m)\n",
      "File \u001b[1;32m~\\anaconda3\\Lib\\site-packages\\selenium\\webdriver\\remote\\webdriver.py:356\u001b[0m, in \u001b[0;36mWebDriver.get\u001b[1;34m(self, url)\u001b[0m\n\u001b[0;32m    354\u001b[0m \u001b[38;5;28;01mdef\u001b[39;00m \u001b[38;5;21mget\u001b[39m(\u001b[38;5;28mself\u001b[39m, url: \u001b[38;5;28mstr\u001b[39m) \u001b[38;5;241m-\u001b[39m\u001b[38;5;241m>\u001b[39m \u001b[38;5;28;01mNone\u001b[39;00m:\n\u001b[0;32m    355\u001b[0m \u001b[38;5;250m    \u001b[39m\u001b[38;5;124;03m\"\"\"Loads a web page in the current browser session.\"\"\"\u001b[39;00m\n\u001b[1;32m--> 356\u001b[0m     \u001b[38;5;28mself\u001b[39m\u001b[38;5;241m.\u001b[39mexecute(Command\u001b[38;5;241m.\u001b[39mGET, {\u001b[38;5;124m\"\u001b[39m\u001b[38;5;124murl\u001b[39m\u001b[38;5;124m\"\u001b[39m: url})\n",
      "File \u001b[1;32m~\\anaconda3\\Lib\\site-packages\\selenium\\webdriver\\remote\\webdriver.py:347\u001b[0m, in \u001b[0;36mWebDriver.execute\u001b[1;34m(self, driver_command, params)\u001b[0m\n\u001b[0;32m    345\u001b[0m response \u001b[38;5;241m=\u001b[39m \u001b[38;5;28mself\u001b[39m\u001b[38;5;241m.\u001b[39mcommand_executor\u001b[38;5;241m.\u001b[39mexecute(driver_command, params)\n\u001b[0;32m    346\u001b[0m \u001b[38;5;28;01mif\u001b[39;00m response:\n\u001b[1;32m--> 347\u001b[0m     \u001b[38;5;28mself\u001b[39m\u001b[38;5;241m.\u001b[39merror_handler\u001b[38;5;241m.\u001b[39mcheck_response(response)\n\u001b[0;32m    348\u001b[0m     response[\u001b[38;5;124m\"\u001b[39m\u001b[38;5;124mvalue\u001b[39m\u001b[38;5;124m\"\u001b[39m] \u001b[38;5;241m=\u001b[39m \u001b[38;5;28mself\u001b[39m\u001b[38;5;241m.\u001b[39m_unwrap_value(response\u001b[38;5;241m.\u001b[39mget(\u001b[38;5;124m\"\u001b[39m\u001b[38;5;124mvalue\u001b[39m\u001b[38;5;124m\"\u001b[39m, \u001b[38;5;28;01mNone\u001b[39;00m))\n\u001b[0;32m    349\u001b[0m     \u001b[38;5;28;01mreturn\u001b[39;00m response\n",
      "File \u001b[1;32m~\\anaconda3\\Lib\\site-packages\\selenium\\webdriver\\remote\\errorhandler.py:229\u001b[0m, in \u001b[0;36mErrorHandler.check_response\u001b[1;34m(self, response)\u001b[0m\n\u001b[0;32m    227\u001b[0m         alert_text \u001b[38;5;241m=\u001b[39m value[\u001b[38;5;124m\"\u001b[39m\u001b[38;5;124malert\u001b[39m\u001b[38;5;124m\"\u001b[39m]\u001b[38;5;241m.\u001b[39mget(\u001b[38;5;124m\"\u001b[39m\u001b[38;5;124mtext\u001b[39m\u001b[38;5;124m\"\u001b[39m)\n\u001b[0;32m    228\u001b[0m     \u001b[38;5;28;01mraise\u001b[39;00m exception_class(message, screen, stacktrace, alert_text)  \u001b[38;5;66;03m# type: ignore[call-arg]  # mypy is not smart enough here\u001b[39;00m\n\u001b[1;32m--> 229\u001b[0m \u001b[38;5;28;01mraise\u001b[39;00m exception_class(message, screen, stacktrace)\n",
      "\u001b[1;31mNoSuchWindowException\u001b[0m: Message: no such window: target window already closed\nfrom unknown error: web view not found\n  (Session info: chrome=125.0.6422.142)\nStacktrace:\n\tGetHandleVerifier [0x00007FF68FDA1F52+60322]\n\t(No symbol) [0x00007FF68FD1CEC9]\n\t(No symbol) [0x00007FF68FBD7EBA]\n\t(No symbol) [0x00007FF68FBAD5A5]\n\t(No symbol) [0x00007FF68FC536B7]\n\t(No symbol) [0x00007FF68FC6B331]\n\t(No symbol) [0x00007FF68FC4BFC3]\n\t(No symbol) [0x00007FF68FC19617]\n\t(No symbol) [0x00007FF68FC1A211]\n\tGetHandleVerifier [0x00007FF6900B94AD+3301629]\n\tGetHandleVerifier [0x00007FF6901036D3+3605283]\n\tGetHandleVerifier [0x00007FF6900F9450+3563680]\n\tGetHandleVerifier [0x00007FF68FE54326+790390]\n\t(No symbol) [0x00007FF68FD2750F]\n\t(No symbol) [0x00007FF68FD23404]\n\t(No symbol) [0x00007FF68FD23592]\n\t(No symbol) [0x00007FF68FD12F9F]\n\tBaseThreadInitThunk [0x00007FF993247344+20]\n\tRtlUserThreadStart [0x00007FF99337CC91+33]\n"
     ]
    }
   ],
   "source": [
    "driver.get(\"https://www.pakwheels.com\")\n",
    "time.sleep(5)"
   ]
  },
  {
   "cell_type": "code",
   "execution_count": 4,
   "id": "1ba305f3-b70e-4911-8ede-202f3baabead",
   "metadata": {},
   "outputs": [],
   "source": [
    "car_link = driver.find_element(By.XPATH,'//ul[@class=\"nav navbar-nav navbar-right\"]/li[1]/a')\n",
    "car_link.click()"
   ]
  },
  {
   "cell_type": "code",
   "execution_count": 5,
   "id": "1a85c2d0-ca50-4e57-9b74-aed9860927eb",
   "metadata": {},
   "outputs": [],
   "source": [
    "used_link = driver.find_element(By.XPATH,'//div[@class=\"container\"]/h2/div/a[1]')\n",
    "used_link.click()"
   ]
  },
  {
   "cell_type": "code",
   "execution_count": 9,
   "id": "2bfb9031-1f47-4159-82aa-7be9b1f505d1",
   "metadata": {},
   "outputs": [],
   "source": [
    "name = []\n",
    "price = []\n",
    "unit = []\n",
    "city = []\n",
    "year = []\n",
    "km = []\n",
    "type = []\n",
    "engine = []\n",
    "transmission = []\n",
    "\n",
    "import time\n",
    "\n",
    "for i in range(77):\n",
    "    names = driver.find_elements(By.XPATH,'//a[@class=\"car-name ad-detail-path\"]/h3')\n",
    "    for n in names:\n",
    "        try:\n",
    "            name.append(n.text)\n",
    "        except:\n",
    "            name.append(\"not found\")\n",
    "    time.sleep(1)\n",
    "    \n",
    "    prices = driver.find_elements(By.XPATH,'//div[@class=\"price-details generic-dark-grey\"]')\n",
    "    for n in prices:\n",
    "        try:\n",
    "            price.append(n.text)\n",
    "        except:\n",
    "            price.append(\"not found\")\n",
    "    time.sleep(1)\n",
    "    \n",
    "    units = driver.find_elements(By.XPATH,'//div[@class=\"price-details generic-dark-grey\"]/span')\n",
    "    for n in units:\n",
    "        try:\n",
    "            unit.append(n.text)\n",
    "        except:\n",
    "            unit.append(\"not found\")\n",
    "    time.sleep(1)\n",
    "    \n",
    "    cites = driver.find_elements(By.XPATH,'//div[@class=\"col-md-12 grid-date\"]/ul[1]/li')\n",
    "    for n in cites:\n",
    "        try:\n",
    "            city.append(n.text)\n",
    "        except:\n",
    "            city.append(\"not found\")\n",
    "    time.sleep(1)\n",
    "    \n",
    "    years = driver.find_elements(By.XPATH,'//div[@class=\"col-md-12 grid-date\"]/ul[2]/li[1]')\n",
    "    for n in years:   \n",
    "        try:\n",
    "            year.append(n.text)\n",
    "        except:\n",
    "            year.append(\"not found\")\n",
    "    time.sleep(1)\n",
    "    \n",
    "    kms = driver.find_elements(By.XPATH,'//div[@class=\"col-md-12 grid-date\"]/ul[2]/li[2]')\n",
    "    for n in kms:\n",
    "        try:\n",
    "            km.append(n.text)\n",
    "        except:\n",
    "            km.append(\"not found\")\n",
    "    time.sleep(1)\n",
    "    \n",
    "    types = driver.find_elements(By.XPATH,'//div[@class=\"col-md-12 grid-date\"]/ul[2]/li[3]')\n",
    "    for n in types:   \n",
    "        try:\n",
    "            type.append(n.text)\n",
    "        except:\n",
    "            type.append(\"not found\")\n",
    "    time.sleep(1)\n",
    "    \n",
    "    engines = driver.find_elements(By.XPATH,'//div[@class=\"col-md-12 grid-date\"]/ul[2]/li[4]')\n",
    "    for n in engines:\n",
    "        try:\n",
    "            engine.append(n.text)\n",
    "        except:\n",
    "            engine.append(\"not found\")\n",
    "    time.sleep(1)\n",
    "    \n",
    "    transmissions = driver.find_elements(By.XPATH,'//div[@class=\"col-md-12 grid-date\"]/ul[2]/li[5]')\n",
    "    for n in transmissions:\n",
    "        try:\n",
    "            transmission.append(n.text)\n",
    "        except:\n",
    "            transmission.append(\"not found\")\n",
    "    time.sleep(1)\n",
    "    \n",
    "    next_page = driver.find_element(By.XPATH,'//a[contains(text(), \"Next\")]')\n",
    "    next_page.click()\n",
    "    time.sleep(8)\n",
    "\n",
    "driver.quit()"
   ]
  },
  {
   "cell_type": "code",
   "execution_count": null,
   "id": "bb55e2a7-8482-42ae-83b1-57b6684145c5",
   "metadata": {},
   "outputs": [],
   "source": [
    "next_page = driver.find_element(By.XPATH,'//li[@class=\"next_page\"]')\n",
    "next_page.click()"
   ]
  },
  {
   "cell_type": "code",
   "execution_count": null,
   "id": "2ed62ae9-9841-4924-8645-dcc850b0f4be",
   "metadata": {},
   "outputs": [],
   "source": [
    "name"
   ]
  },
  {
   "cell_type": "code",
   "execution_count": null,
   "id": "a1670746-389d-4b38-b2df-73d4bb7b30c9",
   "metadata": {},
   "outputs": [],
   "source": [
    "price"
   ]
  },
  {
   "cell_type": "code",
   "execution_count": null,
   "id": "6c79472d-be91-4f6b-b4ad-f871923249cf",
   "metadata": {},
   "outputs": [],
   "source": [
    "transmission"
   ]
  },
  {
   "cell_type": "code",
   "execution_count": 10,
   "id": "b1366ca6-3820-4233-91d9-324e4191f7ca",
   "metadata": {},
   "outputs": [],
   "source": [
    "Date = {\n",
    "            \"Name\":name,\n",
    "            \"Price\":price,\n",
    "            \"City\":city,\n",
    "            \"Year\":year,\n",
    "            \"km driven\":km,\n",
    "            \"Type\":type,\n",
    "            \"Engine\":engine,\n",
    "            \"Transmission\":transmission\n",
    "\n",
    "        }\n",
    "        \n",
    "        \n",
    "df = pd.DataFrame(Date)"
   ]
  },
  {
   "cell_type": "code",
   "execution_count": 11,
   "id": "d777065b-5a6a-4b23-b986-aefa12ed006e",
   "metadata": {},
   "outputs": [],
   "source": [
    "df.to_csv(\"cars_details.csv\", index=False)"
   ]
  },
  {
   "cell_type": "code",
   "execution_count": null,
   "id": "10b9afa2-534b-4b1d-8585-87c852d9609b",
   "metadata": {},
   "outputs": [],
   "source": []
  }
 ],
 "metadata": {
  "kernelspec": {
   "display_name": "Python 3 (ipykernel)",
   "language": "python",
   "name": "python3"
  },
  "language_info": {
   "codemirror_mode": {
    "name": "ipython",
    "version": 3
   },
   "file_extension": ".py",
   "mimetype": "text/x-python",
   "name": "python",
   "nbconvert_exporter": "python",
   "pygments_lexer": "ipython3",
   "version": "3.11.7"
  }
 },
 "nbformat": 4,
 "nbformat_minor": 5
}
