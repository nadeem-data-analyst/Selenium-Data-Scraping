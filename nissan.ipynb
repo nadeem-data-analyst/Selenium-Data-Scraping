{
 "cells": [
  {
   "cell_type": "code",
   "execution_count": 1,
   "id": "317837c1-cf5d-4ccd-a544-73f98e53e3d0",
   "metadata": {},
   "outputs": [],
   "source": [
    "from selenium import webdriver\n",
    "from selenium.webdriver.common.by import By\n",
    "from selenium.webdriver.common.keys import Keys\n",
    "from selenium.webdriver.common.action_chains import ActionChains\n",
    "from selenium.webdriver.support.ui import Select\n",
    "from selenium.webdriver.support.ui import WebDriverWait\n",
    "from selenium.webdriver.support import expected_conditions as EC\n",
    "import time\n",
    "import pandas as pd"
   ]
  },
  {
   "cell_type": "code",
   "execution_count": 2,
   "id": "2a905f1a-8515-4336-86ca-2824bc506b54",
   "metadata": {},
   "outputs": [],
   "source": [
    "driver = webdriver.Chrome()\n",
    "driver.maximize_window()"
   ]
  },
  {
   "cell_type": "code",
   "execution_count": 3,
   "id": "21e939e5-64a0-4fe8-be8c-fa9961d6f4b5",
   "metadata": {},
   "outputs": [],
   "source": [
    "driver.get(\"https://ksa.hatla2ee.com/\")\n",
    "time.sleep(5)"
   ]
  },
  {
   "cell_type": "code",
   "execution_count": null,
   "id": "16765c3c-3f28-4f0b-8724-a49f1652e1c6",
   "metadata": {},
   "outputs": [],
   "source": [
    "names = driver.find_elements(By.XPATH,'//div[@class=\"newCarListUnit_header\"]/span/a')"
   ]
  },
  {
   "cell_type": "code",
   "execution_count": null,
   "id": "aae6fc90-fea0-4b47-89f8-5191061ed85c",
   "metadata": {},
   "outputs": [],
   "source": [
    "name = []\n",
    "for n in names:\n",
    "    try:\n",
    "        name.append(n.text)\n",
    "    except:\n",
    "        name.append(\"not found\")"
   ]
  },
  {
   "cell_type": "code",
   "execution_count": null,
   "id": "e4c1d218-bc46-4719-9fab-fa09e2b69637",
   "metadata": {},
   "outputs": [],
   "source": [
    "name = []\n",
    "model = []\n",
    "car_name = []\n",
    "color = []\n",
    "km = []\n",
    "city = []\n",
    "price = []"
   ]
  },
  {
   "cell_type": "code",
   "execution_count": 5,
   "id": "0d03a118-74c0-4bdf-b4a9-e8e84b2a208b",
   "metadata": {},
   "outputs": [
    {
     "ename": "NoSuchElementException",
     "evalue": "Message: no such element: Unable to locate element: {\"method\":\"xpath\",\"selector\":\"//a[contains(text(), \"Next\")]\"}\n  (Session info: chrome=126.0.6478.127); For documentation on this error, please visit: https://www.selenium.dev/documentation/webdriver/troubleshooting/errors#no-such-element-exception\nStacktrace:\n\tGetHandleVerifier [0x00007FF61F57EEA2+31554]\n\t(No symbol) [0x00007FF61F4F7ED9]\n\t(No symbol) [0x00007FF61F3B872A]\n\t(No symbol) [0x00007FF61F408434]\n\t(No symbol) [0x00007FF61F40853C]\n\t(No symbol) [0x00007FF61F44F6A7]\n\t(No symbol) [0x00007FF61F42D06F]\n\t(No symbol) [0x00007FF61F44C977]\n\t(No symbol) [0x00007FF61F42CDD3]\n\t(No symbol) [0x00007FF61F3FA33B]\n\t(No symbol) [0x00007FF61F3FAED1]\n\tGetHandleVerifier [0x00007FF61F888B1D+3217341]\n\tGetHandleVerifier [0x00007FF61F8D5AE3+3532675]\n\tGetHandleVerifier [0x00007FF61F8CB0E0+3489152]\n\tGetHandleVerifier [0x00007FF61F62E776+750614]\n\t(No symbol) [0x00007FF61F50375F]\n\t(No symbol) [0x00007FF61F4FEB14]\n\t(No symbol) [0x00007FF61F4FECA2]\n\t(No symbol) [0x00007FF61F4EE16F]\n\tBaseThreadInitThunk [0x00007FF8C3587344+20]\n\tRtlUserThreadStart [0x00007FF8C3C1CC91+33]\n",
     "output_type": "error",
     "traceback": [
      "\u001b[1;31m---------------------------------------------------------------------------\u001b[0m",
      "\u001b[1;31mNoSuchElementException\u001b[0m                    Traceback (most recent call last)",
      "Cell \u001b[1;32mIn[5], line 61\u001b[0m\n\u001b[0;32m     57\u001b[0m         price\u001b[38;5;241m.\u001b[39mappend(\u001b[38;5;124m\"\u001b[39m\u001b[38;5;124mnot found\u001b[39m\u001b[38;5;124m\"\u001b[39m)\n\u001b[0;32m     58\u001b[0m time\u001b[38;5;241m.\u001b[39msleep(\u001b[38;5;241m1\u001b[39m)\n\u001b[1;32m---> 61\u001b[0m next_page \u001b[38;5;241m=\u001b[39m driver\u001b[38;5;241m.\u001b[39mfind_element(By\u001b[38;5;241m.\u001b[39mXPATH,\u001b[38;5;124m'\u001b[39m\u001b[38;5;124m//a[contains(text(), \u001b[39m\u001b[38;5;124m\"\u001b[39m\u001b[38;5;124mNext\u001b[39m\u001b[38;5;124m\"\u001b[39m\u001b[38;5;124m)]\u001b[39m\u001b[38;5;124m'\u001b[39m)\n\u001b[0;32m     62\u001b[0m next_page\u001b[38;5;241m.\u001b[39mclick()\n\u001b[0;32m     63\u001b[0m time\u001b[38;5;241m.\u001b[39msleep(\u001b[38;5;241m8\u001b[39m)\n",
      "File \u001b[1;32m~\\anaconda3\\Lib\\site-packages\\selenium\\webdriver\\remote\\webdriver.py:741\u001b[0m, in \u001b[0;36mWebDriver.find_element\u001b[1;34m(self, by, value)\u001b[0m\n\u001b[0;32m    738\u001b[0m     by \u001b[38;5;241m=\u001b[39m By\u001b[38;5;241m.\u001b[39mCSS_SELECTOR\n\u001b[0;32m    739\u001b[0m     value \u001b[38;5;241m=\u001b[39m \u001b[38;5;124mf\u001b[39m\u001b[38;5;124m'\u001b[39m\u001b[38;5;124m[name=\u001b[39m\u001b[38;5;124m\"\u001b[39m\u001b[38;5;132;01m{\u001b[39;00mvalue\u001b[38;5;132;01m}\u001b[39;00m\u001b[38;5;124m\"\u001b[39m\u001b[38;5;124m]\u001b[39m\u001b[38;5;124m'\u001b[39m\n\u001b[1;32m--> 741\u001b[0m \u001b[38;5;28;01mreturn\u001b[39;00m \u001b[38;5;28mself\u001b[39m\u001b[38;5;241m.\u001b[39mexecute(Command\u001b[38;5;241m.\u001b[39mFIND_ELEMENT, {\u001b[38;5;124m\"\u001b[39m\u001b[38;5;124musing\u001b[39m\u001b[38;5;124m\"\u001b[39m: by, \u001b[38;5;124m\"\u001b[39m\u001b[38;5;124mvalue\u001b[39m\u001b[38;5;124m\"\u001b[39m: value})[\u001b[38;5;124m\"\u001b[39m\u001b[38;5;124mvalue\u001b[39m\u001b[38;5;124m\"\u001b[39m]\n",
      "File \u001b[1;32m~\\anaconda3\\Lib\\site-packages\\selenium\\webdriver\\remote\\webdriver.py:347\u001b[0m, in \u001b[0;36mWebDriver.execute\u001b[1;34m(self, driver_command, params)\u001b[0m\n\u001b[0;32m    345\u001b[0m response \u001b[38;5;241m=\u001b[39m \u001b[38;5;28mself\u001b[39m\u001b[38;5;241m.\u001b[39mcommand_executor\u001b[38;5;241m.\u001b[39mexecute(driver_command, params)\n\u001b[0;32m    346\u001b[0m \u001b[38;5;28;01mif\u001b[39;00m response:\n\u001b[1;32m--> 347\u001b[0m     \u001b[38;5;28mself\u001b[39m\u001b[38;5;241m.\u001b[39merror_handler\u001b[38;5;241m.\u001b[39mcheck_response(response)\n\u001b[0;32m    348\u001b[0m     response[\u001b[38;5;124m\"\u001b[39m\u001b[38;5;124mvalue\u001b[39m\u001b[38;5;124m\"\u001b[39m] \u001b[38;5;241m=\u001b[39m \u001b[38;5;28mself\u001b[39m\u001b[38;5;241m.\u001b[39m_unwrap_value(response\u001b[38;5;241m.\u001b[39mget(\u001b[38;5;124m\"\u001b[39m\u001b[38;5;124mvalue\u001b[39m\u001b[38;5;124m\"\u001b[39m, \u001b[38;5;28;01mNone\u001b[39;00m))\n\u001b[0;32m    349\u001b[0m     \u001b[38;5;28;01mreturn\u001b[39;00m response\n",
      "File \u001b[1;32m~\\anaconda3\\Lib\\site-packages\\selenium\\webdriver\\remote\\errorhandler.py:229\u001b[0m, in \u001b[0;36mErrorHandler.check_response\u001b[1;34m(self, response)\u001b[0m\n\u001b[0;32m    227\u001b[0m         alert_text \u001b[38;5;241m=\u001b[39m value[\u001b[38;5;124m\"\u001b[39m\u001b[38;5;124malert\u001b[39m\u001b[38;5;124m\"\u001b[39m]\u001b[38;5;241m.\u001b[39mget(\u001b[38;5;124m\"\u001b[39m\u001b[38;5;124mtext\u001b[39m\u001b[38;5;124m\"\u001b[39m)\n\u001b[0;32m    228\u001b[0m     \u001b[38;5;28;01mraise\u001b[39;00m exception_class(message, screen, stacktrace, alert_text)  \u001b[38;5;66;03m# type: ignore[call-arg]  # mypy is not smart enough here\u001b[39;00m\n\u001b[1;32m--> 229\u001b[0m \u001b[38;5;28;01mraise\u001b[39;00m exception_class(message, screen, stacktrace)\n",
      "\u001b[1;31mNoSuchElementException\u001b[0m: Message: no such element: Unable to locate element: {\"method\":\"xpath\",\"selector\":\"//a[contains(text(), \"Next\")]\"}\n  (Session info: chrome=126.0.6478.127); For documentation on this error, please visit: https://www.selenium.dev/documentation/webdriver/troubleshooting/errors#no-such-element-exception\nStacktrace:\n\tGetHandleVerifier [0x00007FF61F57EEA2+31554]\n\t(No symbol) [0x00007FF61F4F7ED9]\n\t(No symbol) [0x00007FF61F3B872A]\n\t(No symbol) [0x00007FF61F408434]\n\t(No symbol) [0x00007FF61F40853C]\n\t(No symbol) [0x00007FF61F44F6A7]\n\t(No symbol) [0x00007FF61F42D06F]\n\t(No symbol) [0x00007FF61F44C977]\n\t(No symbol) [0x00007FF61F42CDD3]\n\t(No symbol) [0x00007FF61F3FA33B]\n\t(No symbol) [0x00007FF61F3FAED1]\n\tGetHandleVerifier [0x00007FF61F888B1D+3217341]\n\tGetHandleVerifier [0x00007FF61F8D5AE3+3532675]\n\tGetHandleVerifier [0x00007FF61F8CB0E0+3489152]\n\tGetHandleVerifier [0x00007FF61F62E776+750614]\n\t(No symbol) [0x00007FF61F50375F]\n\t(No symbol) [0x00007FF61F4FEB14]\n\t(No symbol) [0x00007FF61F4FECA2]\n\t(No symbol) [0x00007FF61F4EE16F]\n\tBaseThreadInitThunk [0x00007FF8C3587344+20]\n\tRtlUserThreadStart [0x00007FF8C3C1CC91+33]\n"
     ]
    }
   ],
   "source": [
    "\n",
    "\n",
    "\n",
    "import time\n",
    "\n",
    "for i in range(77):\n",
    "    names = driver.find_elements(By.XPATH,'//div[@class=\"newCarListUnit_header\"]/span/a')\n",
    "    for n in names:\n",
    "        try:\n",
    "            name.append(n.text)\n",
    "        except:\n",
    "            name.append(\"not found\")\n",
    "    time.sleep(1)\n",
    "    \n",
    "    models = driver.find_elements(By.XPATH,'//div[@class=\"newCarListUnit_metaTags\"]/span[1]/a')\n",
    "    for n in models:\n",
    "        try:\n",
    "            model.append(n.text)\n",
    "        except:\n",
    "            model.append(\"not found\")\n",
    "    time.sleep(1)\n",
    "    \n",
    "    units = driver.find_elements(By.XPATH,'//div[@class=\"newCarListUnit_metaTags\"]/span[2]/a')\n",
    "    for n in units:\n",
    "        try:\n",
    "            car_name.append(n.text)\n",
    "        except:\n",
    "            car_name.append(\"not found\")\n",
    "    time.sleep(1)\n",
    "    \n",
    "    cites = driver.find_elements(By.XPATH,'//span[@class=\"newCarListUnit_metaTag mob_hidden\"]')\n",
    "    for n in cites:\n",
    "        try:\n",
    "            color.append(n.text)\n",
    "        except:\n",
    "            color.append(\"not found\")\n",
    "    time.sleep(1)\n",
    "    \n",
    "    years = driver.find_elements(By.XPATH,'//span[@class=\"newCarListUnit_metaTag\"]')\n",
    "    for n in years:   \n",
    "        try:\n",
    "            km.append(n.text)\n",
    "        except:\n",
    "            km.append(\"not found\")\n",
    "    time.sleep(1)\n",
    "    \n",
    "    kms = driver.find_elements(By.XPATH,'//div[@class=\"newCarListUnit_metaTags\"]/span[5]/a')\n",
    "    for n in kms:\n",
    "        try:\n",
    "            city.append(n.text)\n",
    "        except:\n",
    "            city.append(\"not found\")\n",
    "    time.sleep(1)\n",
    "    \n",
    "    types = driver.find_elements(By.XPATH,'//div[@class=\"main_price \"]/a')\n",
    "    for n in types:   \n",
    "        try:\n",
    "            price.append(n.text)\n",
    "        except:\n",
    "            price.append(\"not found\")\n",
    "    time.sleep(1)\n",
    "    \n",
    "    \n",
    "    next_page = driver.find_element(By.XPATH,'//a[contains(text(), \"Next\")]')\n",
    "    next_page.click()\n",
    "    time.sleep(8)\n",
    "\n",
    "driver.quit()"
   ]
  },
  {
   "cell_type": "code",
   "execution_count": 6,
   "id": "cd071582-1e9e-4d15-805e-66311b477de6",
   "metadata": {},
   "outputs": [],
   "source": [
    "max_length = max(len(name), len(model),len(city))\n",
    "Date = {\n",
    "            \"Name\":name,\n",
    "            \"Model\":model,\n",
    "            \"Car Name\":car_name,\n",
    "            \"Color\":color,\n",
    "            \"km driven\":km,\n",
    "            \"City\":city  +  [None] * (max_length - len(city)),\n",
    "            \"Price\":price,\n",
    "\n",
    "        }\n",
    "        \n",
    "        \n",
    "df = pd.DataFrame(Date)"
   ]
  },
  {
   "cell_type": "code",
   "execution_count": 7,
   "id": "d2924418-38e7-4605-a97f-c9d15ed0294d",
   "metadata": {},
   "outputs": [],
   "source": [
    "df.to_csv(\"ksa_car_data_1.csv\")"
   ]
  },
  {
   "cell_type": "code",
   "execution_count": null,
   "id": "6c8c91ed-366f-4f81-8033-571f1fe96375",
   "metadata": {},
   "outputs": [],
   "source": [
    "name = []\n",
    "model = []\n",
    "car_name = []\n",
    "color = []\n",
    "km = []\n",
    "city = []\n",
    "price = []"
   ]
  }
 ],
 "metadata": {
  "kernelspec": {
   "display_name": "Python 3 (ipykernel)",
   "language": "python",
   "name": "python3"
  },
  "language_info": {
   "codemirror_mode": {
    "name": "ipython",
    "version": 3
   },
   "file_extension": ".py",
   "mimetype": "text/x-python",
   "name": "python",
   "nbconvert_exporter": "python",
   "pygments_lexer": "ipython3",
   "version": "3.11.7"
  }
 },
 "nbformat": 4,
 "nbformat_minor": 5
}
